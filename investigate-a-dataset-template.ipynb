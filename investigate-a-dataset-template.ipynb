{
 "cells": [
  {
   "cell_type": "markdown",
   "metadata": {},
   "source": [
    "\n",
    "# Project: Analysis on the Top five leagues in europe!\n",
    "# Dataset used: The soccer database\n",
    "\n",
    "## Table of Contents\n",
    "<ul>\n",
    "<li><a href=\"#intro\">Introduction</a></li>\n",
    "<li><a href=\"#wrangling\">Data Wrangling</a></li>\n",
    "<li><a href=\"#eda\">Exploratory Data Analysis</a></li>\n",
    "<li><a href=\"#conclusions\">Conclusions</a></li>\n",
    "</ul>"
   ]
  },
  {
   "cell_type": "markdown",
   "metadata": {},
   "source": [
    "<a id='intro'></a>\n",
    "## Introduction\n",
    "\n",
    "> to do the analysis on the top five leagues in europe I used the soccer database, and the questions we're going to be asking are what's the most attacking and definsive leagues also what's the best team in those leagues.\n",
    "> when we talk about the best team we're talking about two factors, the best scoring team and also the best team that has more clean sheets in their matches"
   ]
  },
  {
   "cell_type": "code",
   "execution_count": 1,
   "metadata": {},
   "outputs": [],
   "source": [
    "import pandas as pd\n",
    "import sqlite3\n",
    "import matplotlib.pyplot as plt\n",
    "%matplotlib inline"
   ]
  },
  {
   "cell_type": "markdown",
   "metadata": {},
   "source": [
    "<a id='wrangling'></a>\n",
    "## Data Wrangling\n",
    "\n",
    "### General Properties"
   ]
  },
  {
   "cell_type": "code",
   "execution_count": 3,
   "metadata": {},
   "outputs": [
    {
     "data": {
      "text/html": [
       "<div>\n",
       "<style scoped>\n",
       "    .dataframe tbody tr th:only-of-type {\n",
       "        vertical-align: middle;\n",
       "    }\n",
       "\n",
       "    .dataframe tbody tr th {\n",
       "        vertical-align: top;\n",
       "    }\n",
       "\n",
       "    .dataframe thead th {\n",
       "        text-align: right;\n",
       "    }\n",
       "</style>\n",
       "<table border=\"1\" class=\"dataframe\">\n",
       "  <thead>\n",
       "    <tr style=\"text-align: right;\">\n",
       "      <th></th>\n",
       "      <th>id</th>\n",
       "      <th>country_id</th>\n",
       "      <th>league_id</th>\n",
       "      <th>season</th>\n",
       "      <th>stage</th>\n",
       "      <th>date</th>\n",
       "      <th>match_api_id</th>\n",
       "      <th>home_team_api_id</th>\n",
       "      <th>away_team_api_id</th>\n",
       "      <th>home_team_goal</th>\n",
       "      <th>...</th>\n",
       "      <th>SJA</th>\n",
       "      <th>VCH</th>\n",
       "      <th>VCD</th>\n",
       "      <th>VCA</th>\n",
       "      <th>GBH</th>\n",
       "      <th>GBD</th>\n",
       "      <th>GBA</th>\n",
       "      <th>BSH</th>\n",
       "      <th>BSD</th>\n",
       "      <th>BSA</th>\n",
       "    </tr>\n",
       "  </thead>\n",
       "  <tbody>\n",
       "    <tr>\n",
       "      <th>0</th>\n",
       "      <td>1</td>\n",
       "      <td>1</td>\n",
       "      <td>1</td>\n",
       "      <td>2008/2009</td>\n",
       "      <td>1</td>\n",
       "      <td>2008-08-17 00:00:00</td>\n",
       "      <td>492473</td>\n",
       "      <td>9987</td>\n",
       "      <td>9993</td>\n",
       "      <td>1</td>\n",
       "      <td>...</td>\n",
       "      <td>4.00</td>\n",
       "      <td>1.65</td>\n",
       "      <td>3.40</td>\n",
       "      <td>4.50</td>\n",
       "      <td>1.78</td>\n",
       "      <td>3.25</td>\n",
       "      <td>4.00</td>\n",
       "      <td>1.73</td>\n",
       "      <td>3.40</td>\n",
       "      <td>4.20</td>\n",
       "    </tr>\n",
       "    <tr>\n",
       "      <th>1</th>\n",
       "      <td>2</td>\n",
       "      <td>1</td>\n",
       "      <td>1</td>\n",
       "      <td>2008/2009</td>\n",
       "      <td>1</td>\n",
       "      <td>2008-08-16 00:00:00</td>\n",
       "      <td>492474</td>\n",
       "      <td>10000</td>\n",
       "      <td>9994</td>\n",
       "      <td>0</td>\n",
       "      <td>...</td>\n",
       "      <td>3.80</td>\n",
       "      <td>2.00</td>\n",
       "      <td>3.25</td>\n",
       "      <td>3.25</td>\n",
       "      <td>1.85</td>\n",
       "      <td>3.25</td>\n",
       "      <td>3.75</td>\n",
       "      <td>1.91</td>\n",
       "      <td>3.25</td>\n",
       "      <td>3.60</td>\n",
       "    </tr>\n",
       "    <tr>\n",
       "      <th>2</th>\n",
       "      <td>3</td>\n",
       "      <td>1</td>\n",
       "      <td>1</td>\n",
       "      <td>2008/2009</td>\n",
       "      <td>1</td>\n",
       "      <td>2008-08-16 00:00:00</td>\n",
       "      <td>492475</td>\n",
       "      <td>9984</td>\n",
       "      <td>8635</td>\n",
       "      <td>0</td>\n",
       "      <td>...</td>\n",
       "      <td>2.50</td>\n",
       "      <td>2.35</td>\n",
       "      <td>3.25</td>\n",
       "      <td>2.65</td>\n",
       "      <td>2.50</td>\n",
       "      <td>3.20</td>\n",
       "      <td>2.50</td>\n",
       "      <td>2.30</td>\n",
       "      <td>3.20</td>\n",
       "      <td>2.75</td>\n",
       "    </tr>\n",
       "    <tr>\n",
       "      <th>3</th>\n",
       "      <td>4</td>\n",
       "      <td>1</td>\n",
       "      <td>1</td>\n",
       "      <td>2008/2009</td>\n",
       "      <td>1</td>\n",
       "      <td>2008-08-17 00:00:00</td>\n",
       "      <td>492476</td>\n",
       "      <td>9991</td>\n",
       "      <td>9998</td>\n",
       "      <td>5</td>\n",
       "      <td>...</td>\n",
       "      <td>7.50</td>\n",
       "      <td>1.45</td>\n",
       "      <td>3.75</td>\n",
       "      <td>6.50</td>\n",
       "      <td>1.50</td>\n",
       "      <td>3.75</td>\n",
       "      <td>5.50</td>\n",
       "      <td>1.44</td>\n",
       "      <td>3.75</td>\n",
       "      <td>6.50</td>\n",
       "    </tr>\n",
       "    <tr>\n",
       "      <th>4</th>\n",
       "      <td>5</td>\n",
       "      <td>1</td>\n",
       "      <td>1</td>\n",
       "      <td>2008/2009</td>\n",
       "      <td>1</td>\n",
       "      <td>2008-08-16 00:00:00</td>\n",
       "      <td>492477</td>\n",
       "      <td>7947</td>\n",
       "      <td>9985</td>\n",
       "      <td>1</td>\n",
       "      <td>...</td>\n",
       "      <td>1.73</td>\n",
       "      <td>4.50</td>\n",
       "      <td>3.40</td>\n",
       "      <td>1.65</td>\n",
       "      <td>4.50</td>\n",
       "      <td>3.50</td>\n",
       "      <td>1.65</td>\n",
       "      <td>4.75</td>\n",
       "      <td>3.30</td>\n",
       "      <td>1.67</td>\n",
       "    </tr>\n",
       "  </tbody>\n",
       "</table>\n",
       "<p>5 rows × 115 columns</p>\n",
       "</div>"
      ],
      "text/plain": [
       "   id  country_id  league_id     season  stage                 date  \\\n",
       "0   1           1          1  2008/2009      1  2008-08-17 00:00:00   \n",
       "1   2           1          1  2008/2009      1  2008-08-16 00:00:00   \n",
       "2   3           1          1  2008/2009      1  2008-08-16 00:00:00   \n",
       "3   4           1          1  2008/2009      1  2008-08-17 00:00:00   \n",
       "4   5           1          1  2008/2009      1  2008-08-16 00:00:00   \n",
       "\n",
       "   match_api_id  home_team_api_id  away_team_api_id  home_team_goal  ...  \\\n",
       "0        492473              9987              9993               1  ...   \n",
       "1        492474             10000              9994               0  ...   \n",
       "2        492475              9984              8635               0  ...   \n",
       "3        492476              9991              9998               5  ...   \n",
       "4        492477              7947              9985               1  ...   \n",
       "\n",
       "    SJA   VCH   VCD   VCA   GBH   GBD   GBA   BSH   BSD   BSA  \n",
       "0  4.00  1.65  3.40  4.50  1.78  3.25  4.00  1.73  3.40  4.20  \n",
       "1  3.80  2.00  3.25  3.25  1.85  3.25  3.75  1.91  3.25  3.60  \n",
       "2  2.50  2.35  3.25  2.65  2.50  3.20  2.50  2.30  3.20  2.75  \n",
       "3  7.50  1.45  3.75  6.50  1.50  3.75  5.50  1.44  3.75  6.50  \n",
       "4  1.73  4.50  3.40  1.65  4.50  3.50  1.65  4.75  3.30  1.67  \n",
       "\n",
       "[5 rows x 115 columns]"
      ]
     },
     "execution_count": 3,
     "metadata": {},
     "output_type": "execute_result"
    }
   ],
   "source": [
    "# Load your data and print out a few lines. Perform operations to inspect data\n",
    "#   types and look for instances of missing or possibly errant data.\n",
    "db = sqlite3.connect('database.sqlite')\n",
    "df = pd.read_sql_query('select * from Match',db)\n",
    "df_country = pd.read_sql_query('select * from Country',db)\n",
    "df_team = pd.read_sql_query('select * from Team',db)\n",
    "df_team_attributes = pd.read_sql_query('select * from Team_Attributes',db)\n",
    "df_players = pd.read_sql_query('select * from Player',db)\n",
    "df_player_attributes = pd.read_sql_query('select * from Player_Attributes',db)\n",
    "df.head()"
   ]
  },
  {
   "cell_type": "markdown",
   "metadata": {},
   "source": [
    "### Data Cleaning "
   ]
  },
  {
   "cell_type": "code",
   "execution_count": 5,
   "metadata": {},
   "outputs": [
    {
     "data": {
      "text/html": [
       "<div>\n",
       "<style scoped>\n",
       "    .dataframe tbody tr th:only-of-type {\n",
       "        vertical-align: middle;\n",
       "    }\n",
       "\n",
       "    .dataframe tbody tr th {\n",
       "        vertical-align: top;\n",
       "    }\n",
       "\n",
       "    .dataframe thead th {\n",
       "        text-align: right;\n",
       "    }\n",
       "</style>\n",
       "<table border=\"1\" class=\"dataframe\">\n",
       "  <thead>\n",
       "    <tr style=\"text-align: right;\">\n",
       "      <th></th>\n",
       "      <th>country_id</th>\n",
       "      <th>league_id</th>\n",
       "      <th>season</th>\n",
       "      <th>date</th>\n",
       "      <th>home_team_api_id</th>\n",
       "      <th>away_team_api_id</th>\n",
       "      <th>home_team_goal</th>\n",
       "      <th>away_team_goal</th>\n",
       "    </tr>\n",
       "  </thead>\n",
       "  <tbody>\n",
       "    <tr>\n",
       "      <th>0</th>\n",
       "      <td>1</td>\n",
       "      <td>1</td>\n",
       "      <td>2008/2009</td>\n",
       "      <td>2008-08-17 00:00:00</td>\n",
       "      <td>9987</td>\n",
       "      <td>9993</td>\n",
       "      <td>1</td>\n",
       "      <td>1</td>\n",
       "    </tr>\n",
       "    <tr>\n",
       "      <th>1</th>\n",
       "      <td>1</td>\n",
       "      <td>1</td>\n",
       "      <td>2008/2009</td>\n",
       "      <td>2008-08-16 00:00:00</td>\n",
       "      <td>10000</td>\n",
       "      <td>9994</td>\n",
       "      <td>0</td>\n",
       "      <td>0</td>\n",
       "    </tr>\n",
       "    <tr>\n",
       "      <th>2</th>\n",
       "      <td>1</td>\n",
       "      <td>1</td>\n",
       "      <td>2008/2009</td>\n",
       "      <td>2008-08-16 00:00:00</td>\n",
       "      <td>9984</td>\n",
       "      <td>8635</td>\n",
       "      <td>0</td>\n",
       "      <td>3</td>\n",
       "    </tr>\n",
       "    <tr>\n",
       "      <th>3</th>\n",
       "      <td>1</td>\n",
       "      <td>1</td>\n",
       "      <td>2008/2009</td>\n",
       "      <td>2008-08-17 00:00:00</td>\n",
       "      <td>9991</td>\n",
       "      <td>9998</td>\n",
       "      <td>5</td>\n",
       "      <td>0</td>\n",
       "    </tr>\n",
       "    <tr>\n",
       "      <th>4</th>\n",
       "      <td>1</td>\n",
       "      <td>1</td>\n",
       "      <td>2008/2009</td>\n",
       "      <td>2008-08-16 00:00:00</td>\n",
       "      <td>7947</td>\n",
       "      <td>9985</td>\n",
       "      <td>1</td>\n",
       "      <td>3</td>\n",
       "    </tr>\n",
       "  </tbody>\n",
       "</table>\n",
       "</div>"
      ],
      "text/plain": [
       "   country_id  league_id     season                 date  home_team_api_id  \\\n",
       "0           1          1  2008/2009  2008-08-17 00:00:00              9987   \n",
       "1           1          1  2008/2009  2008-08-16 00:00:00             10000   \n",
       "2           1          1  2008/2009  2008-08-16 00:00:00              9984   \n",
       "3           1          1  2008/2009  2008-08-17 00:00:00              9991   \n",
       "4           1          1  2008/2009  2008-08-16 00:00:00              7947   \n",
       "\n",
       "   away_team_api_id  home_team_goal  away_team_goal  \n",
       "0              9993               1               1  \n",
       "1              9994               0               0  \n",
       "2              8635               0               3  \n",
       "3              9998               5               0  \n",
       "4              9985               1               3  "
      ]
     },
     "execution_count": 5,
     "metadata": {},
     "output_type": "execute_result"
    }
   ],
   "source": [
    "#now we need to clean our matches dataset but first we need to eliminate all the columns that we're not interested in\n",
    "# in the matches dataset we're interested in ('country_id','league_id','season','date','home_team_api_id','away_team_api_id','home_team_goal','away_team_goal')\n",
    "# we have to include these ids as foreign keys and then replace them with the correspoding columns that we want in the primary key table with a join\n",
    "df = df[['country_id','league_id','season','date','home_team_api_id','away_team_api_id','home_team_goal','away_team_goal']]\n",
    "df.head()"
   ]
  },
  {
   "cell_type": "code",
   "execution_count": 41,
   "metadata": {},
   "outputs": [
    {
     "data": {
      "text/plain": [
       "0"
      ]
     },
     "execution_count": 41,
     "metadata": {},
     "output_type": "execute_result"
    }
   ],
   "source": [
    "#making sure there is no duplicated matches\n",
    "df.duplicated().sum()"
   ]
  },
  {
   "cell_type": "code",
   "execution_count": 45,
   "metadata": {},
   "outputs": [
    {
     "data": {
      "text/plain": [
       "season              False\n",
       "date                False\n",
       "home_team_goal      False\n",
       "away_team_goal      False\n",
       "home_team_name      False\n",
       "away_team_name      False\n",
       "country_name        False\n",
       "home_team_status    False\n",
       "away_team_status    False\n",
       "dtype: bool"
      ]
     },
     "execution_count": 45,
     "metadata": {},
     "output_type": "execute_result"
    }
   ],
   "source": [
    "#making sure there is no missing values\n",
    "df.isnull().all()"
   ]
  },
  {
   "cell_type": "code",
   "execution_count": 6,
   "metadata": {},
   "outputs": [],
   "source": [
    "# now we have to get the teams names, country name and add a few columns to help us with the analysis\n",
    "#let's start with the join statement from the teams table to include the home and away team name\n",
    "df['home_team_name'] = pd.merge(df,df_team,how='left',left_on='home_team_api_id',right_on='team_api_id')['team_long_name']\n",
    "df['away_team_name'] = pd.merge(df,df_team,how='left',left_on='away_team_api_id',right_on='team_api_id')['team_long_name']"
   ]
  },
  {
   "cell_type": "code",
   "execution_count": 8,
   "metadata": {},
   "outputs": [
    {
     "data": {
      "text/html": [
       "<div>\n",
       "<style scoped>\n",
       "    .dataframe tbody tr th:only-of-type {\n",
       "        vertical-align: middle;\n",
       "    }\n",
       "\n",
       "    .dataframe tbody tr th {\n",
       "        vertical-align: top;\n",
       "    }\n",
       "\n",
       "    .dataframe thead th {\n",
       "        text-align: right;\n",
       "    }\n",
       "</style>\n",
       "<table border=\"1\" class=\"dataframe\">\n",
       "  <thead>\n",
       "    <tr style=\"text-align: right;\">\n",
       "      <th></th>\n",
       "      <th>country_id</th>\n",
       "      <th>league_id</th>\n",
       "      <th>season</th>\n",
       "      <th>date</th>\n",
       "      <th>home_team_api_id</th>\n",
       "      <th>away_team_api_id</th>\n",
       "      <th>home_team_goal</th>\n",
       "      <th>away_team_goal</th>\n",
       "      <th>home_team_name</th>\n",
       "      <th>away_team_name</th>\n",
       "      <th>country_name</th>\n",
       "    </tr>\n",
       "  </thead>\n",
       "  <tbody>\n",
       "    <tr>\n",
       "      <th>0</th>\n",
       "      <td>1</td>\n",
       "      <td>1</td>\n",
       "      <td>2008/2009</td>\n",
       "      <td>2008-08-17 00:00:00</td>\n",
       "      <td>9987</td>\n",
       "      <td>9993</td>\n",
       "      <td>1</td>\n",
       "      <td>1</td>\n",
       "      <td>KRC Genk</td>\n",
       "      <td>Beerschot AC</td>\n",
       "      <td>Belgium</td>\n",
       "    </tr>\n",
       "    <tr>\n",
       "      <th>1</th>\n",
       "      <td>1</td>\n",
       "      <td>1</td>\n",
       "      <td>2008/2009</td>\n",
       "      <td>2008-08-16 00:00:00</td>\n",
       "      <td>10000</td>\n",
       "      <td>9994</td>\n",
       "      <td>0</td>\n",
       "      <td>0</td>\n",
       "      <td>SV Zulte-Waregem</td>\n",
       "      <td>Sporting Lokeren</td>\n",
       "      <td>Belgium</td>\n",
       "    </tr>\n",
       "    <tr>\n",
       "      <th>2</th>\n",
       "      <td>1</td>\n",
       "      <td>1</td>\n",
       "      <td>2008/2009</td>\n",
       "      <td>2008-08-16 00:00:00</td>\n",
       "      <td>9984</td>\n",
       "      <td>8635</td>\n",
       "      <td>0</td>\n",
       "      <td>3</td>\n",
       "      <td>KSV Cercle Brugge</td>\n",
       "      <td>RSC Anderlecht</td>\n",
       "      <td>Belgium</td>\n",
       "    </tr>\n",
       "    <tr>\n",
       "      <th>3</th>\n",
       "      <td>1</td>\n",
       "      <td>1</td>\n",
       "      <td>2008/2009</td>\n",
       "      <td>2008-08-17 00:00:00</td>\n",
       "      <td>9991</td>\n",
       "      <td>9998</td>\n",
       "      <td>5</td>\n",
       "      <td>0</td>\n",
       "      <td>KAA Gent</td>\n",
       "      <td>RAEC Mons</td>\n",
       "      <td>Belgium</td>\n",
       "    </tr>\n",
       "    <tr>\n",
       "      <th>4</th>\n",
       "      <td>1</td>\n",
       "      <td>1</td>\n",
       "      <td>2008/2009</td>\n",
       "      <td>2008-08-16 00:00:00</td>\n",
       "      <td>7947</td>\n",
       "      <td>9985</td>\n",
       "      <td>1</td>\n",
       "      <td>3</td>\n",
       "      <td>FCV Dender EH</td>\n",
       "      <td>Standard de Liège</td>\n",
       "      <td>Belgium</td>\n",
       "    </tr>\n",
       "  </tbody>\n",
       "</table>\n",
       "</div>"
      ],
      "text/plain": [
       "   country_id  league_id     season                 date  home_team_api_id  \\\n",
       "0           1          1  2008/2009  2008-08-17 00:00:00              9987   \n",
       "1           1          1  2008/2009  2008-08-16 00:00:00             10000   \n",
       "2           1          1  2008/2009  2008-08-16 00:00:00              9984   \n",
       "3           1          1  2008/2009  2008-08-17 00:00:00              9991   \n",
       "4           1          1  2008/2009  2008-08-16 00:00:00              7947   \n",
       "\n",
       "   away_team_api_id  home_team_goal  away_team_goal     home_team_name  \\\n",
       "0              9993               1               1           KRC Genk   \n",
       "1              9994               0               0   SV Zulte-Waregem   \n",
       "2              8635               0               3  KSV Cercle Brugge   \n",
       "3              9998               5               0           KAA Gent   \n",
       "4              9985               1               3      FCV Dender EH   \n",
       "\n",
       "      away_team_name country_name  \n",
       "0       Beerschot AC      Belgium  \n",
       "1   Sporting Lokeren      Belgium  \n",
       "2     RSC Anderlecht      Belgium  \n",
       "3          RAEC Mons      Belgium  \n",
       "4  Standard de Liège      Belgium  "
      ]
     },
     "execution_count": 8,
     "metadata": {},
     "output_type": "execute_result"
    }
   ],
   "source": [
    "# we now need to add the country name to know which league is each match from\n",
    "df['country_name'] = pd.merge(df,df_country,how='left',left_on='country_id',right_on='id')['name']\n",
    "#let's get a look on the data\n",
    "df.head()"
   ]
  },
  {
   "cell_type": "code",
   "execution_count": 10,
   "metadata": {},
   "outputs": [
    {
     "data": {
      "text/html": [
       "<div>\n",
       "<style scoped>\n",
       "    .dataframe tbody tr th:only-of-type {\n",
       "        vertical-align: middle;\n",
       "    }\n",
       "\n",
       "    .dataframe tbody tr th {\n",
       "        vertical-align: top;\n",
       "    }\n",
       "\n",
       "    .dataframe thead th {\n",
       "        text-align: right;\n",
       "    }\n",
       "</style>\n",
       "<table border=\"1\" class=\"dataframe\">\n",
       "  <thead>\n",
       "    <tr style=\"text-align: right;\">\n",
       "      <th></th>\n",
       "      <th>season</th>\n",
       "      <th>date</th>\n",
       "      <th>home_team_goal</th>\n",
       "      <th>away_team_goal</th>\n",
       "      <th>home_team_name</th>\n",
       "      <th>away_team_name</th>\n",
       "      <th>country_name</th>\n",
       "    </tr>\n",
       "  </thead>\n",
       "  <tbody>\n",
       "    <tr>\n",
       "      <th>0</th>\n",
       "      <td>2008/2009</td>\n",
       "      <td>2008-08-17 00:00:00</td>\n",
       "      <td>1</td>\n",
       "      <td>1</td>\n",
       "      <td>KRC Genk</td>\n",
       "      <td>Beerschot AC</td>\n",
       "      <td>Belgium</td>\n",
       "    </tr>\n",
       "    <tr>\n",
       "      <th>1</th>\n",
       "      <td>2008/2009</td>\n",
       "      <td>2008-08-16 00:00:00</td>\n",
       "      <td>0</td>\n",
       "      <td>0</td>\n",
       "      <td>SV Zulte-Waregem</td>\n",
       "      <td>Sporting Lokeren</td>\n",
       "      <td>Belgium</td>\n",
       "    </tr>\n",
       "    <tr>\n",
       "      <th>2</th>\n",
       "      <td>2008/2009</td>\n",
       "      <td>2008-08-16 00:00:00</td>\n",
       "      <td>0</td>\n",
       "      <td>3</td>\n",
       "      <td>KSV Cercle Brugge</td>\n",
       "      <td>RSC Anderlecht</td>\n",
       "      <td>Belgium</td>\n",
       "    </tr>\n",
       "    <tr>\n",
       "      <th>3</th>\n",
       "      <td>2008/2009</td>\n",
       "      <td>2008-08-17 00:00:00</td>\n",
       "      <td>5</td>\n",
       "      <td>0</td>\n",
       "      <td>KAA Gent</td>\n",
       "      <td>RAEC Mons</td>\n",
       "      <td>Belgium</td>\n",
       "    </tr>\n",
       "    <tr>\n",
       "      <th>4</th>\n",
       "      <td>2008/2009</td>\n",
       "      <td>2008-08-16 00:00:00</td>\n",
       "      <td>1</td>\n",
       "      <td>3</td>\n",
       "      <td>FCV Dender EH</td>\n",
       "      <td>Standard de Liège</td>\n",
       "      <td>Belgium</td>\n",
       "    </tr>\n",
       "  </tbody>\n",
       "</table>\n",
       "</div>"
      ],
      "text/plain": [
       "      season                 date  home_team_goal  away_team_goal  \\\n",
       "0  2008/2009  2008-08-17 00:00:00               1               1   \n",
       "1  2008/2009  2008-08-16 00:00:00               0               0   \n",
       "2  2008/2009  2008-08-16 00:00:00               0               3   \n",
       "3  2008/2009  2008-08-17 00:00:00               5               0   \n",
       "4  2008/2009  2008-08-16 00:00:00               1               3   \n",
       "\n",
       "      home_team_name     away_team_name country_name  \n",
       "0           KRC Genk       Beerschot AC      Belgium  \n",
       "1   SV Zulte-Waregem   Sporting Lokeren      Belgium  \n",
       "2  KSV Cercle Brugge     RSC Anderlecht      Belgium  \n",
       "3           KAA Gent          RAEC Mons      Belgium  \n",
       "4      FCV Dender EH  Standard de Liège      Belgium  "
      ]
     },
     "execution_count": 10,
     "metadata": {},
     "output_type": "execute_result"
    }
   ],
   "source": [
    "#now let's drop all the id columns since we did our joins\n",
    "df.drop(columns=['country_id','league_id','home_team_api_id','away_team_api_id'],inplace=True)\n",
    "df.head()"
   ]
  },
  {
   "cell_type": "code",
   "execution_count": 14,
   "metadata": {},
   "outputs": [],
   "source": [
    "# this function is responsible for telling us whether the home team had won the match or not\n",
    "def home_status( home_goals,away_goals):\n",
    "    if home_goals > away_goals:\n",
    "        return 'win'\n",
    "    elif home_goals < away_goals:\n",
    "        return 'loss'\n",
    "    else:\n",
    "        return 'draw'"
   ]
  },
  {
   "cell_type": "code",
   "execution_count": 16,
   "metadata": {},
   "outputs": [],
   "source": [
    "# this function is responsible for telling us whether the away team had won the match or not\n",
    "def away_status(home):\n",
    "    if home=='win':\n",
    "        return 'loss'\n",
    "    elif home=='loss':\n",
    "        return 'win'\n",
    "    else:\n",
    "        return 'draw'"
   ]
  },
  {
   "cell_type": "code",
   "execution_count": 18,
   "metadata": {},
   "outputs": [
    {
     "data": {
      "text/html": [
       "<div>\n",
       "<style scoped>\n",
       "    .dataframe tbody tr th:only-of-type {\n",
       "        vertical-align: middle;\n",
       "    }\n",
       "\n",
       "    .dataframe tbody tr th {\n",
       "        vertical-align: top;\n",
       "    }\n",
       "\n",
       "    .dataframe thead th {\n",
       "        text-align: right;\n",
       "    }\n",
       "</style>\n",
       "<table border=\"1\" class=\"dataframe\">\n",
       "  <thead>\n",
       "    <tr style=\"text-align: right;\">\n",
       "      <th></th>\n",
       "      <th>season</th>\n",
       "      <th>date</th>\n",
       "      <th>home_team_goal</th>\n",
       "      <th>away_team_goal</th>\n",
       "      <th>home_team_name</th>\n",
       "      <th>away_team_name</th>\n",
       "      <th>country_name</th>\n",
       "      <th>home_team_status</th>\n",
       "      <th>away_team_status</th>\n",
       "    </tr>\n",
       "  </thead>\n",
       "  <tbody>\n",
       "    <tr>\n",
       "      <th>0</th>\n",
       "      <td>2008/2009</td>\n",
       "      <td>2008-08-17</td>\n",
       "      <td>1</td>\n",
       "      <td>1</td>\n",
       "      <td>KRC Genk</td>\n",
       "      <td>Beerschot AC</td>\n",
       "      <td>Belgium</td>\n",
       "      <td>draw</td>\n",
       "      <td>draw</td>\n",
       "    </tr>\n",
       "    <tr>\n",
       "      <th>1</th>\n",
       "      <td>2008/2009</td>\n",
       "      <td>2008-08-16</td>\n",
       "      <td>0</td>\n",
       "      <td>0</td>\n",
       "      <td>SV Zulte-Waregem</td>\n",
       "      <td>Sporting Lokeren</td>\n",
       "      <td>Belgium</td>\n",
       "      <td>draw</td>\n",
       "      <td>draw</td>\n",
       "    </tr>\n",
       "    <tr>\n",
       "      <th>2</th>\n",
       "      <td>2008/2009</td>\n",
       "      <td>2008-08-16</td>\n",
       "      <td>0</td>\n",
       "      <td>3</td>\n",
       "      <td>KSV Cercle Brugge</td>\n",
       "      <td>RSC Anderlecht</td>\n",
       "      <td>Belgium</td>\n",
       "      <td>loss</td>\n",
       "      <td>win</td>\n",
       "    </tr>\n",
       "    <tr>\n",
       "      <th>3</th>\n",
       "      <td>2008/2009</td>\n",
       "      <td>2008-08-17</td>\n",
       "      <td>5</td>\n",
       "      <td>0</td>\n",
       "      <td>KAA Gent</td>\n",
       "      <td>RAEC Mons</td>\n",
       "      <td>Belgium</td>\n",
       "      <td>win</td>\n",
       "      <td>loss</td>\n",
       "    </tr>\n",
       "    <tr>\n",
       "      <th>4</th>\n",
       "      <td>2008/2009</td>\n",
       "      <td>2008-08-16</td>\n",
       "      <td>1</td>\n",
       "      <td>3</td>\n",
       "      <td>FCV Dender EH</td>\n",
       "      <td>Standard de Liège</td>\n",
       "      <td>Belgium</td>\n",
       "      <td>loss</td>\n",
       "      <td>win</td>\n",
       "    </tr>\n",
       "  </tbody>\n",
       "</table>\n",
       "</div>"
      ],
      "text/plain": [
       "      season       date  home_team_goal  away_team_goal     home_team_name  \\\n",
       "0  2008/2009 2008-08-17               1               1           KRC Genk   \n",
       "1  2008/2009 2008-08-16               0               0   SV Zulte-Waregem   \n",
       "2  2008/2009 2008-08-16               0               3  KSV Cercle Brugge   \n",
       "3  2008/2009 2008-08-17               5               0           KAA Gent   \n",
       "4  2008/2009 2008-08-16               1               3      FCV Dender EH   \n",
       "\n",
       "      away_team_name country_name home_team_status away_team_status  \n",
       "0       Beerschot AC      Belgium             draw             draw  \n",
       "1   Sporting Lokeren      Belgium             draw             draw  \n",
       "2     RSC Anderlecht      Belgium             loss              win  \n",
       "3          RAEC Mons      Belgium              win             loss  \n",
       "4  Standard de Liège      Belgium             loss              win  "
      ]
     },
     "execution_count": 18,
     "metadata": {},
     "output_type": "execute_result"
    }
   ],
   "source": [
    "df[\"home_team_status\"] = df.apply(lambda row:home_status(row[\"home_team_goal\"], row[\"away_team_goal\"]), axis=1)\n",
    "df[\"away_team_status\"] = df.apply(lambda row:away_status(row[\"home_team_status\"]), axis=1)\n",
    "df.head()"
   ]
  },
  {
   "cell_type": "code",
   "execution_count": 19,
   "metadata": {},
   "outputs": [
    {
     "name": "stdout",
     "output_type": "stream",
     "text": [
      "<class 'pandas.core.frame.DataFrame'>\n",
      "RangeIndex: 25979 entries, 0 to 25978\n",
      "Data columns (total 9 columns):\n",
      " #   Column            Non-Null Count  Dtype         \n",
      "---  ------            --------------  -----         \n",
      " 0   season            25979 non-null  object        \n",
      " 1   date              25979 non-null  datetime64[ns]\n",
      " 2   home_team_goal    25979 non-null  int64         \n",
      " 3   away_team_goal    25979 non-null  int64         \n",
      " 4   home_team_name    25979 non-null  object        \n",
      " 5   away_team_name    25979 non-null  object        \n",
      " 6   country_name      25979 non-null  object        \n",
      " 7   home_team_status  25979 non-null  object        \n",
      " 8   away_team_status  25979 non-null  object        \n",
      "dtypes: datetime64[ns](1), int64(2), object(6)\n",
      "memory usage: 1.8+ MB\n"
     ]
    }
   ],
   "source": [
    "#let's take a look about the data info to get a sense of our data types\n",
    "df.info()"
   ]
  },
  {
   "cell_type": "code",
   "execution_count": 12,
   "metadata": {},
   "outputs": [],
   "source": [
    "# I notice that the date is a string so we need to convert it to be datetime object\n",
    "df['date']=pd.to_datetime(df['date'])"
   ]
  },
  {
   "cell_type": "code",
   "execution_count": 13,
   "metadata": {},
   "outputs": [],
   "source": [
    "# now these are the leagues we're going to do the analysis on since these are the top ranked five leagues in europe\n",
    "spanish_league = df['country_name']=='Spain'\n",
    "english_league = df['country_name']=='England'\n",
    "italian_league = df['country_name']=='Italy'\n",
    "german_league = df['country_name']=='Germany'\n",
    "french_league = df['country_name']=='France'"
   ]
  },
  {
   "cell_type": "markdown",
   "metadata": {},
   "source": [
    "<a id='eda'></a>\n",
    "## Exploratory Data Analysis\n",
    "\n",
    "### what's the most attacking league over the seasons?"
   ]
  },
  {
   "cell_type": "code",
   "execution_count": 20,
   "metadata": {},
   "outputs": [
    {
     "data": {
      "text/html": [
       "<div>\n",
       "<style scoped>\n",
       "    .dataframe tbody tr th:only-of-type {\n",
       "        vertical-align: middle;\n",
       "    }\n",
       "\n",
       "    .dataframe tbody tr th {\n",
       "        vertical-align: top;\n",
       "    }\n",
       "\n",
       "    .dataframe thead th {\n",
       "        text-align: right;\n",
       "    }\n",
       "</style>\n",
       "<table border=\"1\" class=\"dataframe\">\n",
       "  <thead>\n",
       "    <tr style=\"text-align: right;\">\n",
       "      <th></th>\n",
       "      <th>home_team_goal</th>\n",
       "      <th>away_team_goal</th>\n",
       "      <th>total</th>\n",
       "    </tr>\n",
       "    <tr>\n",
       "      <th>country_name</th>\n",
       "      <th></th>\n",
       "      <th></th>\n",
       "      <th></th>\n",
       "    </tr>\n",
       "  </thead>\n",
       "  <tbody>\n",
       "    <tr>\n",
       "      <th>England</th>\n",
       "      <td>4715</td>\n",
       "      <td>3525</td>\n",
       "      <td>8240</td>\n",
       "    </tr>\n",
       "    <tr>\n",
       "      <th>France</th>\n",
       "      <td>4265</td>\n",
       "      <td>3162</td>\n",
       "      <td>7427</td>\n",
       "    </tr>\n",
       "    <tr>\n",
       "      <th>Germany</th>\n",
       "      <td>3982</td>\n",
       "      <td>3121</td>\n",
       "      <td>7103</td>\n",
       "    </tr>\n",
       "    <tr>\n",
       "      <th>Italy</th>\n",
       "      <td>4528</td>\n",
       "      <td>3367</td>\n",
       "      <td>7895</td>\n",
       "    </tr>\n",
       "    <tr>\n",
       "      <th>Spain</th>\n",
       "      <td>4959</td>\n",
       "      <td>3453</td>\n",
       "      <td>8412</td>\n",
       "    </tr>\n",
       "  </tbody>\n",
       "</table>\n",
       "</div>"
      ],
      "text/plain": [
       "              home_team_goal  away_team_goal  total\n",
       "country_name                                       \n",
       "England                 4715            3525   8240\n",
       "France                  4265            3162   7427\n",
       "Germany                 3982            3121   7103\n",
       "Italy                   4528            3367   7895\n",
       "Spain                   4959            3453   8412"
      ]
     },
     "execution_count": 20,
     "metadata": {},
     "output_type": "execute_result"
    }
   ],
   "source": [
    "#querying the home and away goals grouped by the country name so it's and indication of the league\n",
    "league_goals = df.query(\"country_name in ['Spain','Italy','England','Germany','France']\").groupby('country_name').sum()[['home_team_goal','away_team_goal']]\n",
    "#adding a new column of total goals of eaach league\n",
    "league_goals['total'] = league_goals['home_team_goal']+league_goals['away_team_goal']\n",
    "league_goals"
   ]
  },
  {
   "cell_type": "code",
   "execution_count": 21,
   "metadata": {},
   "outputs": [
    {
     "data": {
      "image/png": "[encoded data removed]",
      "text/plain": [
       "<Figure size 720x576 with 1 Axes>"
      ]
     },
     "metadata": {
      "needs_background": "light"
     },
     "output_type": "display_data"
    }
   ],
   "source": [
    "#plotting the total goals of each league to see which league had the most and less goals\n",
    "#rot=1 so we get the names on the x-axis in the right direction\n",
    "league_goals['total'].plot(kind='bar',figsize=(10,8),rot=1);\n",
    "plt.title('Goals scored by each league');"
   ]
  },
  {
   "cell_type": "markdown",
   "metadata": {},
   "source": [
    ">we see here the top scoring league is the spanish league with a total of **8412** goals and england comes in second place with **8240** goals, we also notice here that the most defensive league is the german league"
   ]
  },
  {
   "cell_type": "markdown",
   "metadata": {},
   "source": [
    ">giving here that the **English** and the **Spanish** leagues are similar to each other with the most goals scored we need to take a look at their records against each other over all the seasons we got from the season of 2009 till 2016"
   ]
  },
  {
   "cell_type": "code",
   "execution_count": 22,
   "metadata": {},
   "outputs": [
    {
     "data": {
      "image/png": "[encoded data removed]",
      "text/plain": [
       "<Figure size 720x576 with 1 Axes>"
      ]
     },
     "metadata": {
      "needs_background": "light"
     },
     "output_type": "display_data"
    }
   ],
   "source": [
    "# querying all goals scored in only the spanish and english leagues grouped by the season and the name\n",
    "league_goals = df.query(\"country_name in ['Spain','England']\").groupby(['season','country_name']).sum()[['home_team_goal','away_team_goal']]\n",
    "league_goals['total'] = league_goals['home_team_goal']+league_goals['away_team_goal']\n",
    "total_goals = league_goals['total']\n",
    "#ploting each league on top of the other so we can take a glance about which one leads in every season\n",
    "total_goals.loc[:,'Spain'].plot(kind='bar',figsize=(10,8),color='red',alpha=0.5,rot=1);\n",
    "total_goals.loc[:,'England'].plot(kind='bar',figsize=(10,8),alpha=0.5,rot=1);\n",
    "plt.legend(['Spain','England']);\n",
    "plt.title('Spain vs England');"
   ]
  },
  {
   "cell_type": "markdown",
   "metadata": {},
   "source": [
    "> we see here that both leagues had 4 seasons each where they led in goals, but as we found out that the overall total goals are in spain's side."
   ]
  },
  {
   "cell_type": "markdown",
   "metadata": {},
   "source": [
    "### What's the best team in europe top five leagues?\n",
    "### in order to answer that question we'll decompose it into two smaller questions"
   ]
  },
  {
   "cell_type": "markdown",
   "metadata": {
    "collapsed": true
   },
   "source": [
    "> <ul>\n",
    "    <li>what's the best scoring team?</li>\n",
    "    <li>what's the team with the most clean sheets?</li>\n",
    "</ul>"
   ]
  },
  {
   "cell_type": "markdown",
   "metadata": {},
   "source": [
    "## what's the best scoring team?\n",
    "### to answer that question it's logical to search in the spanish league since we figured out it's the best attacking league in europe"
   ]
  },
  {
   "cell_type": "code",
   "execution_count": 23,
   "metadata": {},
   "outputs": [
    {
     "data": {
      "image/png": "[encoded data removed]",
      "text/plain": [
       "<Figure size 720x576 with 1 Axes>"
      ]
     },
     "metadata": {
      "needs_background": "light"
     },
     "output_type": "display_data"
    }
   ],
   "source": [
    "#ploting all the goals scored grouped by each team home and away\n",
    "all_spanish_goals=df[spanish_league].groupby('home_team_name')['home_team_goal'].sum()+df[spanish_league].groupby('away_team_name')['away_team_goal'].sum()\n",
    "all_spanish_goals.plot(kind='bar',figsize=(10,8),title='all spanish league goals');"
   ]
  },
  {
   "cell_type": "markdown",
   "metadata": {},
   "source": [
    ">so as we can see FC Barcelona and Real Madrid are both the top domimant goal scorers in spain. therefore, it would be really helpful to look at their goal record in each season"
   ]
  },
  {
   "cell_type": "code",
   "execution_count": 25,
   "metadata": {},
   "outputs": [],
   "source": [
    "#querying all barcelona goals\n",
    "barcelona_goals_home=df[spanish_league].query('home_team_name == \"FC Barcelona\"').groupby('season')['home_team_goal'].sum()\n",
    "barcelona_goals_away=df[spanish_league].query('away_team_name == \"FC Barcelona\"').groupby('season')['away_team_goal'].sum()\n",
    "barcelona_total_goals = barcelona_goals_away + barcelona_goals_home"
   ]
  },
  {
   "cell_type": "code",
   "execution_count": 26,
   "metadata": {},
   "outputs": [],
   "source": [
    "#querying all real madrid goals\n",
    "madrid_goals_home=df[spanish_league].query('home_team_name == \"Real Madrid CF\"').groupby('season')['home_team_goal'].sum()\n",
    "madrid_goals_away=df[spanish_league].query('away_team_name == \"Real Madrid CF\"').groupby('season')['away_team_goal'].sum()\n",
    "madrid_total_goals = madrid_goals_away + madrid_goals_home"
   ]
  },
  {
   "cell_type": "code",
   "execution_count": 27,
   "metadata": {},
   "outputs": [
    {
     "data": {
      "image/png": "[encoded data removed]",
      "text/plain": [
       "<Figure size 720x576 with 1 Axes>"
      ]
     },
     "metadata": {
      "needs_background": "light"
     },
     "output_type": "display_data"
    }
   ],
   "source": [
    "#ploting goals of barcelona and real madird on the season time frame\n",
    "barcelona_total_goals.plot(kind='line',figsize=(10,8),alpha=0.5)\n",
    "madrid_total_goals.plot(kind='line',figsize=(10,8),color='red',alpha=0.5)\n",
    "plt.legend(['FC Barcelona','Real Madrid CF'])\n",
    "plt.title('Barcelona VS Real Madrid');"
   ]
  },
  {
   "cell_type": "markdown",
   "metadata": {},
   "source": [
    "> As we can see Real Madrid reached the highest record between them in the season 2011/2012 but after that their goals record droped to barcelona\n",
    "> but it's still not so clear what team to choose between them as the best so we will go search their **head to head** games"
   ]
  },
  {
   "cell_type": "markdown",
   "metadata": {},
   "source": [
    "# Barcelona VS Real Madrid (El clásico!)\n",
    "> we would be looking at the goals, wins and clean sheets between them"
   ]
  },
  {
   "cell_type": "code",
   "execution_count": 28,
   "metadata": {},
   "outputs": [],
   "source": [
    "#querying only matches between both of them\n",
    "df_clasico = df[spanish_league].query('(home_team_name==\"FC Barcelona\" and away_team_name==\"Real Madrid CF\") or (home_team_name==\"Real Madrid CF\"and away_team_name==\"FC Barcelona\")')"
   ]
  },
  {
   "cell_type": "code",
   "execution_count": 29,
   "metadata": {},
   "outputs": [],
   "source": [
    "#making a new column with barcelona performance so it is easy to plot their result.\n",
    "df_clasico['barcelona'] = df_clasico.apply(lambda row: row['home_team_status'] if row['home_team_name']=='FC Barcelona' else row['away_team_status'],axis=1)"
   ]
  },
  {
   "cell_type": "code",
   "execution_count": 30,
   "metadata": {},
   "outputs": [
    {
     "data": {
      "text/plain": [
       "Text(0.5, 1.0, 'Barcelona performance against real madrid')"
      ]
     },
     "execution_count": 30,
     "metadata": {},
     "output_type": "execute_result"
    },
    {
     "data": {
      "image/png": "[encoded data removed]",
      "text/plain": [
       "<Figure size 432x288 with 1 Axes>"
      ]
     },
     "metadata": {
      "needs_background": "light"
     },
     "output_type": "display_data"
    }
   ],
   "source": [
    "#plotting barcelona performance vs real madrid \n",
    "df_clasico['barcelona'].hist()\n",
    "plt.title('Barcelona performance against real madrid')"
   ]
  },
  {
   "cell_type": "markdown",
   "metadata": {},
   "source": [
    "> we can see here that FC Barcelona are ahead of real madrid when it comes to head to head matches so we can finally make a conclusion that barcelona's side was the better one."
   ]
  },
  {
   "cell_type": "markdown",
   "metadata": {},
   "source": [
    "### What's the team with the most clean sheets?"
   ]
  },
  {
   "cell_type": "markdown",
   "metadata": {},
   "source": [
    "> as this was our second question now we need to look at most clean sheets made by a team in europe.\n",
    "> for this statistic we're going to be looking at the **german league** as we figured out earlier that it's the least scoring league in europe top five leagues"
   ]
  },
  {
   "cell_type": "code",
   "execution_count": 31,
   "metadata": {},
   "outputs": [
    {
     "data": {
      "text/html": [
       "<div>\n",
       "<style scoped>\n",
       "    .dataframe tbody tr th:only-of-type {\n",
       "        vertical-align: middle;\n",
       "    }\n",
       "\n",
       "    .dataframe tbody tr th {\n",
       "        vertical-align: top;\n",
       "    }\n",
       "\n",
       "    .dataframe thead th {\n",
       "        text-align: right;\n",
       "    }\n",
       "</style>\n",
       "<table border=\"1\" class=\"dataframe\">\n",
       "  <thead>\n",
       "    <tr style=\"text-align: right;\">\n",
       "      <th></th>\n",
       "      <th>season</th>\n",
       "      <th>date</th>\n",
       "      <th>home_team_goal</th>\n",
       "      <th>away_team_goal</th>\n",
       "      <th>home_team_name</th>\n",
       "      <th>away_team_name</th>\n",
       "      <th>country_name</th>\n",
       "      <th>home_team_status</th>\n",
       "      <th>away_team_status</th>\n",
       "    </tr>\n",
       "  </thead>\n",
       "  <tbody>\n",
       "    <tr>\n",
       "      <th>7808</th>\n",
       "      <td>2008/2009</td>\n",
       "      <td>2008-08-15</td>\n",
       "      <td>2</td>\n",
       "      <td>2</td>\n",
       "      <td>FC Bayern Munich</td>\n",
       "      <td>Hamburger SV</td>\n",
       "      <td>Germany</td>\n",
       "      <td>draw</td>\n",
       "      <td>draw</td>\n",
       "    </tr>\n",
       "    <tr>\n",
       "      <th>7809</th>\n",
       "      <td>2008/2009</td>\n",
       "      <td>2008-08-16</td>\n",
       "      <td>2</td>\n",
       "      <td>3</td>\n",
       "      <td>Bayer 04 Leverkusen</td>\n",
       "      <td>Borussia Dortmund</td>\n",
       "      <td>Germany</td>\n",
       "      <td>loss</td>\n",
       "      <td>win</td>\n",
       "    </tr>\n",
       "    <tr>\n",
       "      <th>7810</th>\n",
       "      <td>2008/2009</td>\n",
       "      <td>2008-08-16</td>\n",
       "      <td>3</td>\n",
       "      <td>0</td>\n",
       "      <td>FC Schalke 04</td>\n",
       "      <td>Hannover 96</td>\n",
       "      <td>Germany</td>\n",
       "      <td>win</td>\n",
       "      <td>loss</td>\n",
       "    </tr>\n",
       "    <tr>\n",
       "      <th>7811</th>\n",
       "      <td>2008/2009</td>\n",
       "      <td>2008-08-16</td>\n",
       "      <td>2</td>\n",
       "      <td>1</td>\n",
       "      <td>VfL Wolfsburg</td>\n",
       "      <td>1. FC Köln</td>\n",
       "      <td>Germany</td>\n",
       "      <td>win</td>\n",
       "      <td>loss</td>\n",
       "    </tr>\n",
       "    <tr>\n",
       "      <th>7812</th>\n",
       "      <td>2008/2009</td>\n",
       "      <td>2008-08-17</td>\n",
       "      <td>0</td>\n",
       "      <td>2</td>\n",
       "      <td>Eintracht Frankfurt</td>\n",
       "      <td>Hertha BSC Berlin</td>\n",
       "      <td>Germany</td>\n",
       "      <td>loss</td>\n",
       "      <td>win</td>\n",
       "    </tr>\n",
       "  </tbody>\n",
       "</table>\n",
       "</div>"
      ],
      "text/plain": [
       "         season       date  home_team_goal  away_team_goal  \\\n",
       "7808  2008/2009 2008-08-15               2               2   \n",
       "7809  2008/2009 2008-08-16               2               3   \n",
       "7810  2008/2009 2008-08-16               3               0   \n",
       "7811  2008/2009 2008-08-16               2               1   \n",
       "7812  2008/2009 2008-08-17               0               2   \n",
       "\n",
       "           home_team_name     away_team_name country_name home_team_status  \\\n",
       "7808     FC Bayern Munich       Hamburger SV      Germany             draw   \n",
       "7809  Bayer 04 Leverkusen  Borussia Dortmund      Germany             loss   \n",
       "7810        FC Schalke 04        Hannover 96      Germany              win   \n",
       "7811        VfL Wolfsburg         1. FC Köln      Germany              win   \n",
       "7812  Eintracht Frankfurt  Hertha BSC Berlin      Germany             loss   \n",
       "\n",
       "     away_team_status  \n",
       "7808             draw  \n",
       "7809              win  \n",
       "7810             loss  \n",
       "7811             loss  \n",
       "7812              win  "
      ]
     },
     "execution_count": 31,
     "metadata": {},
     "output_type": "execute_result"
    }
   ],
   "source": [
    "##taking a look at the german league\n",
    "df[german_league].head()"
   ]
  },
  {
   "cell_type": "code",
   "execution_count": 32,
   "metadata": {},
   "outputs": [
    {
     "data": {
      "text/html": [
       "<div>\n",
       "<style scoped>\n",
       "    .dataframe tbody tr th:only-of-type {\n",
       "        vertical-align: middle;\n",
       "    }\n",
       "\n",
       "    .dataframe tbody tr th {\n",
       "        vertical-align: top;\n",
       "    }\n",
       "\n",
       "    .dataframe thead th {\n",
       "        text-align: right;\n",
       "    }\n",
       "</style>\n",
       "<table border=\"1\" class=\"dataframe\">\n",
       "  <thead>\n",
       "    <tr style=\"text-align: right;\">\n",
       "      <th></th>\n",
       "      <th>season</th>\n",
       "      <th>date</th>\n",
       "      <th>home_team_goal</th>\n",
       "      <th>away_team_goal</th>\n",
       "      <th>home_team_name</th>\n",
       "      <th>away_team_name</th>\n",
       "      <th>country_name</th>\n",
       "      <th>home_team_status</th>\n",
       "      <th>away_team_status</th>\n",
       "    </tr>\n",
       "  </thead>\n",
       "  <tbody>\n",
       "    <tr>\n",
       "      <th>7810</th>\n",
       "      <td>2008/2009</td>\n",
       "      <td>2008-08-16</td>\n",
       "      <td>3</td>\n",
       "      <td>0</td>\n",
       "      <td>FC Schalke 04</td>\n",
       "      <td>Hannover 96</td>\n",
       "      <td>Germany</td>\n",
       "      <td>win</td>\n",
       "      <td>loss</td>\n",
       "    </tr>\n",
       "    <tr>\n",
       "      <th>7812</th>\n",
       "      <td>2008/2009</td>\n",
       "      <td>2008-08-17</td>\n",
       "      <td>0</td>\n",
       "      <td>2</td>\n",
       "      <td>Eintracht Frankfurt</td>\n",
       "      <td>Hertha BSC Berlin</td>\n",
       "      <td>Germany</td>\n",
       "      <td>loss</td>\n",
       "      <td>win</td>\n",
       "    </tr>\n",
       "    <tr>\n",
       "      <th>7814</th>\n",
       "      <td>2008/2009</td>\n",
       "      <td>2008-08-16</td>\n",
       "      <td>0</td>\n",
       "      <td>3</td>\n",
       "      <td>FC Energie Cottbus</td>\n",
       "      <td>TSG 1899 Hoffenheim</td>\n",
       "      <td>Germany</td>\n",
       "      <td>loss</td>\n",
       "      <td>win</td>\n",
       "    </tr>\n",
       "    <tr>\n",
       "      <th>7816</th>\n",
       "      <td>2008/2009</td>\n",
       "      <td>2008-08-16</td>\n",
       "      <td>1</td>\n",
       "      <td>0</td>\n",
       "      <td>Karlsruher SC</td>\n",
       "      <td>VfL Bochum</td>\n",
       "      <td>Germany</td>\n",
       "      <td>win</td>\n",
       "      <td>loss</td>\n",
       "    </tr>\n",
       "    <tr>\n",
       "      <th>7817</th>\n",
       "      <td>2008/2009</td>\n",
       "      <td>2008-10-29</td>\n",
       "      <td>2</td>\n",
       "      <td>0</td>\n",
       "      <td>Hamburger SV</td>\n",
       "      <td>VfB Stuttgart</td>\n",
       "      <td>Germany</td>\n",
       "      <td>win</td>\n",
       "      <td>loss</td>\n",
       "    </tr>\n",
       "  </tbody>\n",
       "</table>\n",
       "</div>"
      ],
      "text/plain": [
       "         season       date  home_team_goal  away_team_goal  \\\n",
       "7810  2008/2009 2008-08-16               3               0   \n",
       "7812  2008/2009 2008-08-17               0               2   \n",
       "7814  2008/2009 2008-08-16               0               3   \n",
       "7816  2008/2009 2008-08-16               1               0   \n",
       "7817  2008/2009 2008-10-29               2               0   \n",
       "\n",
       "           home_team_name       away_team_name country_name home_team_status  \\\n",
       "7810        FC Schalke 04          Hannover 96      Germany              win   \n",
       "7812  Eintracht Frankfurt    Hertha BSC Berlin      Germany             loss   \n",
       "7814   FC Energie Cottbus  TSG 1899 Hoffenheim      Germany             loss   \n",
       "7816        Karlsruher SC           VfL Bochum      Germany              win   \n",
       "7817         Hamburger SV        VfB Stuttgart      Germany              win   \n",
       "\n",
       "     away_team_status  \n",
       "7810             loss  \n",
       "7812              win  \n",
       "7814              win  \n",
       "7816             loss  \n",
       "7817             loss  "
      ]
     },
     "execution_count": 32,
     "metadata": {},
     "output_type": "execute_result"
    }
   ],
   "source": [
    "# making a dataframe with matches that ended with a clean sheet for one of the teams or both of them \n",
    "df_clean_sheet= df[german_league].query('home_team_goal == 0 or away_team_goal==0')\n",
    "df_clean_sheet.head()"
   ]
  },
  {
   "cell_type": "code",
   "execution_count": 33,
   "metadata": {},
   "outputs": [],
   "source": [
    "# adding columns to indicate whether the clean sheet is made by the home or away team (1 is clean sheet, 0 not a clean sheet)\n",
    "df_clean_sheet['home_clean']=df_clean_sheet.apply(lambda row: 1 if row['away_team_goal']==0 else 0 ,axis=1)\n",
    "df_clean_sheet['away_clean']=df_clean_sheet.apply(lambda row: 1 if row['home_team_goal']==0 else 0 ,axis=1)"
   ]
  },
  {
   "cell_type": "code",
   "execution_count": 40,
   "metadata": {},
   "outputs": [
    {
     "data": {
      "image/png": "[encoded data removed]",
      "text/plain": [
       "<Figure size 720x576 with 1 Axes>"
      ]
     },
     "metadata": {
      "needs_background": "light"
     },
     "output_type": "display_data"
    }
   ],
   "source": [
    "#summing all the home and away clean sheets made by each team\n",
    "all_clean_sheets = df_clean_sheet.groupby('away_team_name').count()['away_clean'] + df_clean_sheet.groupby('home_team_name').count()['home_clean']\n",
    "#ploting the total result to see the team with most clean sheets\n",
    "all_clean_sheets.plot(kind='bar',figsize=(10,8));\n",
    "plt.title('Bayern munich leads with 140 clean sheets');"
   ]
  },
  {
   "cell_type": "markdown",
   "metadata": {},
   "source": [
    ">Now it's clear that bayern is the most defensive team with **140** clean sheets made over all seasons"
   ]
  },
  {
   "cell_type": "markdown",
   "metadata": {},
   "source": [
    "<a id='conclusions'></a>\n",
    "## Conclusions\n",
    "\n",
    ">### we could say that during the time period of 2009 until 2016 the most attacking league was the spanish league and the most defensive league was the german league.\n",
    ">### we also found out when we mention the best team we must talk about barcelona and real madrid, whom we found were leading the top scorers in europe top five leagues, and we knew that barcelona was the leading team in the head to head matches between them\n",
    "> ### when we considered the top defensive team or the most team with clean sheets in europe we found out that the german giants bayern munich had the most clean sheets record."
   ]
  },
  {
   "cell_type": "code",
   "execution_count": null,
   "metadata": {
    "collapsed": true
   },
   "outputs": [],
   "source": []
  }
 ],
 "metadata": {
  "kernelspec": {
   "display_name": "Python 3 (ipykernel)",
   "language": "python",
   "name": "python3"
  },
  "language_info": {
   "codemirror_mode": {
    "name": "ipython",
    "version": 3
   },
   "file_extension": ".py",
   "mimetype": "text/x-python",
   "name": "python",
   "nbconvert_exporter": "python",
   "pygments_lexer": "ipython3",
   "version": "3.9.12"
  }
 },
 "nbformat": 4,
 "nbformat_minor": 2
}
